{
 "cells": [
  {
   "cell_type": "markdown",
   "metadata": {},
   "source": [
    "# Neural Networks Keras - Not Project Code"
   ]
  },
  {
   "cell_type": "markdown",
   "metadata": {},
   "source": [
    "I attempted to try running the same dataset using the Keras library function. I have not used this as part of my project or paper. I am just enclosing this notebook to show I tried neural networks with other models than sklearn. "
   ]
  },
  {
   "cell_type": "code",
   "execution_count": null,
   "metadata": {
    "colab": {
     "base_uri": "https://localhost:8080/"
    },
    "id": "0naOiCjoJB-t",
    "outputId": "8352dec8-6542-4f43-e098-06eb45116764"
   },
   "outputs": [
    {
     "name": "stdout",
     "output_type": "stream",
     "text": [
      "Requirement already satisfied: keras in /usr/local/lib/python3.6/dist-packages (2.4.3)\n",
      "Requirement already satisfied: numpy>=1.9.1 in /usr/local/lib/python3.6/dist-packages (from keras) (1.18.5)\n",
      "Requirement already satisfied: scipy>=0.14 in /usr/local/lib/python3.6/dist-packages (from keras) (1.4.1)\n",
      "Requirement already satisfied: h5py in /usr/local/lib/python3.6/dist-packages (from keras) (2.10.0)\n",
      "Requirement already satisfied: pyyaml in /usr/local/lib/python3.6/dist-packages (from keras) (3.13)\n",
      "Requirement already satisfied: six in /usr/local/lib/python3.6/dist-packages (from h5py->keras) (1.15.0)\n"
     ]
    }
   ],
   "source": [
    "pip install keras"
   ]
  },
  {
   "cell_type": "code",
   "execution_count": null,
   "metadata": {
    "colab": {
     "base_uri": "https://localhost:8080/"
    },
    "id": "fK7upAheJU5X",
    "outputId": "85983857-cdef-47fc-8b22-dcf02738ce82"
   },
   "outputs": [
    {
     "name": "stdout",
     "output_type": "stream",
     "text": [
      "Requirement already satisfied: pandas in /usr/local/lib/python3.6/dist-packages (1.1.5)\n",
      "Requirement already satisfied: python-dateutil>=2.7.3 in /usr/local/lib/python3.6/dist-packages (from pandas) (2.8.1)\n",
      "Requirement already satisfied: pytz>=2017.2 in /usr/local/lib/python3.6/dist-packages (from pandas) (2018.9)\n",
      "Requirement already satisfied: numpy>=1.15.4 in /usr/local/lib/python3.6/dist-packages (from pandas) (1.18.5)\n",
      "Requirement already satisfied: six>=1.5 in /usr/local/lib/python3.6/dist-packages (from python-dateutil>=2.7.3->pandas) (1.15.0)\n"
     ]
    }
   ],
   "source": [
    "pip install pandas"
   ]
  },
  {
   "cell_type": "code",
   "execution_count": null,
   "metadata": {
    "id": "VoJIxbD3JGML"
   },
   "outputs": [],
   "source": [
    "from numpy import loadtxt\n",
    "from keras.models import Sequential\n",
    "from keras.layers import Dense\n",
    "import pandas as pd\n",
    "\n"
   ]
  },
  {
   "cell_type": "code",
   "execution_count": null,
   "metadata": {
    "colab": {
     "base_uri": "https://localhost:8080/"
    },
    "id": "oPGpqEirJPSR",
    "outputId": "091ccdd5-0ac1-4dec-bae5-299fba72e161"
   },
   "outputs": [
    {
     "name": "stdout",
     "output_type": "stream",
     "text": [
      "                id  region  price  ...      lat     long  state\n",
      "0       7039061606      21   1195  ...  33.4226 -86.7065      1\n",
      "1       7041970863      21   1120  ...  33.3755 -86.8045      1\n",
      "2       7041966914      21    825  ...  33.4226 -86.7065      1\n",
      "3       7041966936      21    800  ...  33.4226 -86.7065      1\n",
      "4       7041966888      21    785  ...  33.4226 -86.7065      1\n",
      "...            ...     ...    ...  ...      ...      ...    ...\n",
      "160142  7050888285      52   1719  ...  39.9709 -82.9241     35\n",
      "160143  7049194586      52    870  ...  39.8971 -82.8957     35\n",
      "160144  7050888256      52    929  ...  39.9709 -82.9241     35\n",
      "160145  7050887997      52   1069  ...  39.8408 -83.0804     35\n",
      "160146  7050885800      52   1001  ...  40.0451 -82.4564     35\n",
      "\n",
      "[160147 rows x 18 columns]\n"
     ]
    }
   ],
   "source": [
    "df = pd.read_csv(\"Cleaned_Rent_Dataset.csv\")\n",
    "print(df)\n"
   ]
  },
  {
   "cell_type": "code",
   "execution_count": null,
   "metadata": {
    "colab": {
     "base_uri": "https://localhost:8080/"
    },
    "id": "nKrbboiCJcKD",
    "outputId": "5dabf7dd-07b7-483a-8f07-a949292a278c"
   },
   "outputs": [
    {
     "name": "stdout",
     "output_type": "stream",
     "text": [
      "        price  type  sqfeet  ...  cats_allowed  dogs_allowed  smoking_allowed\n",
      "0        1195     0    1908  ...             1             1                1\n",
      "1        1120     0    1319  ...             1             1                1\n",
      "2         825     0    1133  ...             1             1                1\n",
      "3         800     0     927  ...             1             1                1\n",
      "4         785     0    1047  ...             1             1                1\n",
      "...       ...   ...     ...  ...           ...           ...              ...\n",
      "160142   1719     0    1630  ...             1             1                1\n",
      "160143    870     0     933  ...             1             1                1\n",
      "160144    929     0     728  ...             1             1                1\n",
      "160145   1069     0    1020  ...             1             1                1\n",
      "160146   1001     0    1220  ...             1             1                1\n",
      "\n",
      "[160147 rows x 8 columns]\n",
      "0         0\n",
      "1         0\n",
      "2         0\n",
      "3         0\n",
      "4         0\n",
      "         ..\n",
      "160142    1\n",
      "160143    0\n",
      "160144    1\n",
      "160145    0\n",
      "160146    0\n",
      "Name: wheelchair_access, Length: 160147, dtype: int64\n"
     ]
    }
   ],
   "source": [
    "X = df.iloc[:,2:10]\n",
    "y = df.iloc[:,10]\n",
    "print(X)\n",
    "print(y)"
   ]
  },
  {
   "cell_type": "code",
   "execution_count": null,
   "metadata": {
    "id": "TaL9Obe-Jvtc"
   },
   "outputs": [],
   "source": [
    "model = Sequential()\n",
    "model.add(Dense(12, input_dim=8, activation='relu'))\n",
    "model.add(Dense(8, activation='relu'))\n",
    "model.add(Dense(1, activation='sigmoid'))"
   ]
  },
  {
   "cell_type": "code",
   "execution_count": null,
   "metadata": {
    "id": "OFfAwtbDJzih"
   },
   "outputs": [],
   "source": [
    "model.compile(loss='binary_crossentropy', optimizer='adam', metrics=['accuracy'])"
   ]
  },
  {
   "cell_type": "code",
   "execution_count": null,
   "metadata": {
    "colab": {
     "base_uri": "https://localhost:8080/"
    },
    "id": "lk3oqL7kJ4ZR",
    "outputId": "6ed4df18-c05c-46cb-c6e7-547c19b3580e"
   },
   "outputs": [
    {
     "name": "stdout",
     "output_type": "stream",
     "text": [
      "Epoch 1/3\n",
      "5005/5005 [==============================] - 5s 995us/step - loss: 0.9157 - accuracy: 0.8831\n",
      "Epoch 2/3\n",
      "5005/5005 [==============================] - 5s 1ms/step - loss: 428.0037 - accuracy: 0.8891\n",
      "Epoch 3/3\n",
      "5005/5005 [==============================] - 5s 1ms/step - loss: 1.3914 - accuracy: 0.8830\n"
     ]
    },
    {
     "data": {
      "text/plain": [
       "<tensorflow.python.keras.callbacks.History at 0x7f182c525080>"
      ]
     },
     "execution_count": 131,
     "metadata": {
      "tags": []
     },
     "output_type": "execute_result"
    }
   ],
   "source": [
    "model.fit(X, y, epochs=3)"
   ]
  },
  {
   "cell_type": "code",
   "execution_count": null,
   "metadata": {
    "colab": {
     "base_uri": "https://localhost:8080/"
    },
    "id": "6tSQs4FrJ7j4",
    "outputId": "73020cce-3c3b-42af-ae76-1efd9800abb5"
   },
   "outputs": [
    {
     "name": "stdout",
     "output_type": "stream",
     "text": [
      "5005/5005 [==============================] - 4s 822us/step - loss: 207.7971 - accuracy: 0.8807\n",
      "Accuracy: 88.07\n"
     ]
    }
   ],
   "source": [
    "_, accuracy = model.evaluate(X, y)\n",
    "print('Accuracy: %.2f' % (accuracy*100))"
   ]
  },
  {
   "cell_type": "code",
   "execution_count": null,
   "metadata": {
    "id": "SSH4HsX0UQm_"
   },
   "outputs": [],
   "source": [
    "predictions = model.predict_classes(X)"
   ]
  }
 ],
 "metadata": {
  "colab": {
   "name": "neuralnet.ipynb",
   "provenance": []
  },
  "kernelspec": {
   "display_name": "Python 3",
   "language": "python",
   "name": "python3"
  },
  "language_info": {
   "codemirror_mode": {
    "name": "ipython",
    "version": 3
   },
   "file_extension": ".py",
   "mimetype": "text/x-python",
   "name": "python",
   "nbconvert_exporter": "python",
   "pygments_lexer": "ipython3",
   "version": "3.7.4"
  }
 },
 "nbformat": 4,
 "nbformat_minor": 1
}
